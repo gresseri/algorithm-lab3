{
 "cells": [
  {
   "cell_type": "markdown",
   "id": "af8ffbea",
   "metadata": {},
   "source": [
    "Lab 3\n",
    "===\n",
    "\n",
    "Partial sorting/Find the k'th smallest element of a list"
   ]
  },
  {
   "cell_type": "markdown",
   "id": "b3fc8e33",
   "metadata": {},
   "source": [
    "## Description of How Problem Was Solved\n",
    "\n",
    "Using the 'hint' given in the lab manual, the algorithm was structured as a divide-and-conquer algorithm using a pivot value to divide the array.  The fact that the pivot is revealed to be the j<sup>th</sup> element after partitioning was also given in the lab manual.  Combining these two pieces of information led to the creation of an algorithm that splits the array based on an arbitrary pivot value and recurses on one of the pieces.\n",
    "\n",
    "To narrow down the search space the array [ a<sub>1</sub>, a<sub>2</sub>, a<sub>3</sub>, ..., a<sub>n</sub> ] is split into two subarrays, [ a<sub>1</sub>, ..., a<sub>j-1</sub> ] and [ a<sub>j+1</sub>, a<sub>n</sub> ] where the first array contains elements less than the pivot, and the second contains elements greater than the pivot.  The posibilities for elements equal to the pivot was handled later.  The original algorithm design creates new lists at every step, but elements could also be swapped in place similar to quicksort.\n",
    "\n",
    "After the array is split, either the pivot was the k<sup>th</sup> element, or there are two options for further processing.  In the case that the number of elements smaller than the pivot is greater than k, then k must be smaller than the pivot, so the algorithm should continue on the less-than array.  In the other case, where the number of elements smaller than the pivot is less than k, the algorithm should continue on the greater-than array.  However, k must be updated to represent the number of elements that were thrown out.\n",
    "\n",
    "Initial derivation (pivot is **bold**):\n",
    "\n",
    "A = [ 5, 1, 7, 4, **3**, 9, 2, 6, 8 ]; k = 5\n",
    "\n",
    "LT[2] GT[6] -> A = [5, 7, **4**, 9, 6, 8]; k = 2\n",
    "\n",
    "LT[0] GT[5] -> A = [5, 7, **9**, 6, 8]; k = 1\n",
    "\n",
    "LT[4] GT[0] -> A = [5, **7**, 6, 8]; k = 1\n",
    "\n",
    "LT[2] GT[1] -> A = [**5**, 6]; k = 1\n",
    "\n",
    "LT[0] GT[1] -> A = [6]; k = 0\n",
    "\n",
    "A<sub>k</sub> = 5"
   ]
  },
  {
   "cell_type": "markdown",
   "id": "2ca470c0",
   "metadata": {},
   "source": [
    "### Image of How Algorithm works"
   ]
  },
  {
   "cell_type": "markdown",
   "id": "a6b42ee9",
   "metadata": {},
   "source": []
  },
  {
   "cell_type": "code",
   "execution_count": null,
   "id": "246a5386",
   "metadata": {},
   "outputs": [],
   "source": []
  },
  {
   "cell_type": "markdown",
   "id": "aa56c2fa",
   "metadata": {},
   "source": [
    "## PsuedoCode"
   ]
  },
  {
   "cell_type": "markdown",
   "id": "eab457c6",
   "metadata": {},
   "source": [
    "def split(in_list, k):\n",
    "\n",
    "    if k >= in_list.length:\n",
    "        return null\n",
    "    pivot = inlist.pop(in_list.length/2)\n",
    "    greaterThanList = []\n",
    "    lessThanList = []\n",
    "    equalList = []\n",
    "    \n",
    "    for element in in_list:\n",
    "        if element < pivot:\n",
    "            lessThanList.append(element)\n",
    "        else if element > pivot: \n",
    "            greaterThanList.append(element)\n",
    "        else:\n",
    "            equalList.append(element)\n",
    "    \n",
    "    if (lessThanList.length <= k):\n",
    "        k -= lessThanList.length\n",
    "    else:\n",
    "        return split(lessThanList, k)\n",
    "    if (equalList <= k):\n",
    "        k -= equalList.length\n",
    "    else:\n",
    "        return pivot\n",
    "    \n",
    "    return split(greaterThanList, k)"
   ]
  },
  {
   "cell_type": "markdown",
   "id": "4e38f7fe",
   "metadata": {},
   "source": [
    "## Justification of Correctness"
   ]
  },
  {
   "cell_type": "markdown",
   "id": "a6c5e7c7",
   "metadata": {},
   "source": [
    "At the start of the algortihm, there is a selected partition value from the provided array. There are multiple loop invariants in this algorithm, but the most important one is the value k. K represents the desired index of the value if the values within the array are sorted from the current array. This is true on intialization, as k represents the index to retrieve if the array was sorted.\n",
    "\n",
    "$~$\n",
    "\n",
    "Before the first iteration of the list, this is true as established by the initialization. After the algorithm picks a pivot, the given list is divided into 3 arrays: gt_list which contains all values greater than the pivot, lt_list which contains all values less than the pivot, and eq_list which contains all values equal to the pivot. If the value of k is less than the size of lt_list, the algorithm recurses into lt_list, otherwise the value of k is reduced by the size of lt_list.  If k was larger than the size of lt_list, the algorithm does the same with eq_list.  If k was larger than the size of both lists, the algorithm recurses into gt_list. As such, k is being adjusted to reflect the number of elements that have been thrown out. As such, k represents the desired position for any given subarray, and therefore is true before and after each recursion.\n",
    "\n",
    "$~$\n",
    "\n",
    "After the termination of the algorithm, due to how the arrays are split up, k will eventually represent an element in the eq_list. When this happens, the invariant k will still be true: k is the desired position in a given subarray. Since it was wittled down to be the desired k value, we can then say that, although the k value was changed, it ended up being the kth smallest value of the given array, giving us the correct result."
   ]
  },
  {
   "cell_type": "markdown",
   "id": "5a7d10cd",
   "metadata": {},
   "source": [
    "## Derived Recurrence"
   ]
  },
  {
   "cell_type": "markdown",
   "id": "bd8d84df",
   "metadata": {},
   "source": [
    "Assuming that the random pivot selected divided the element in half each time (lumping the eq_list with lt_list), the recursion recurrence relation is T(n/2). Then, in the  algortihm there is a comparison to check if the pivot is equal to k. This check is done every iteration of the recursion, so it can be represented as O(n). As such, the full recurrence relation is:\n",
    "\n",
    "$$T(n) = T(\\frac{n}{2}) + n$$"
   ]
  },
  {
   "cell_type": "markdown",
   "id": "4d21c364",
   "metadata": {},
   "source": [
    "## Solved Recurrence"
   ]
  },
  {
   "cell_type": "markdown",
   "id": "a5cf22ec",
   "metadata": {},
   "source": [
    "##### Substitution Method \n",
    "With a derived reccurrence, we can find the overall algorithmic complexity of the implemented algorithm. Using the substitution method, if the time complexity is guessed to be O(n), the induction hypothesis is:\n",
    "\n",
    "\n",
    "$$T(n) = T(\\frac{n}{2}) + O(n) <= c(\\frac{n}{2}) + n$$\n",
    "                                                \n",
    "                                                \n",
    "                                                \n",
    "If we solve the recurrence, \n",
    "\n",
    "$$T(n) = T(\\frac{n}{2}) + n <= c*\\frac{n}{2} + n <= cn$$\n",
    "$$c*\\frac{n}{2} + n = n + n <= 2n,   c = 2$$\n",
    "$$\\in O(n)$$\n",
    "\n",
    "As shown by the solved equation, the guess was right, with the algorithmic complexity of the implemented algorithm being O(n).\n",
    "\n",
    "##### Master Method\n",
    "$$log_2(1) = 0$$\n",
    "\n",
    "$$n^{0+\\epsilon} = n^{1} ~~for~~ \\epsilon > 0$$\n",
    "\n",
    "$$1\\frac{n}{2} \\leq cn ~~for~~ c \\lt 1$$\n",
    "\n",
    "$$c \\leq \\frac{1}{2}$$\n",
    "\n",
    "$$T(n)=T(\\frac{n}{2}) + O(n) \\in \\Theta(n)$$\n",
    "\n",
    "\n"
   ]
  },
  {
   "cell_type": "markdown",
   "id": "eb8d6dc5",
   "metadata": {},
   "source": [
    "## Benchmarked Data"
   ]
  },
  {
   "cell_type": "markdown",
   "id": "ecce29cb",
   "metadata": {},
   "source": [
    "| List Size | Runs | Goal Element K | Average Split Algorithm Time | Average Lib. Sort Time |\n",
    "| :---: | :---: | :---: | :---: | :---: |\n",
    "| 100 | 100 | 10 | 0.023485 ms|0.0059709 ms |\n",
    "| 650 | 100| 75| 0.15496 ms | 0.048101 ms |\n",
    "|1000 | 75 |100 | 0.22264 ms | 0.079159 ms |\n",
    "|6500 | 20| 750 | 1.6927 ms | 0.74166 ms |\n",
    "|10000 | 15 | 1000| 2.8495 ms | 1.1979 ms |\n",
    "|65000 | 10| 7500| 18.374 ms | 11.359 ms |\n",
    "|100000 | 8 | 10000| 26.916 ms| 16.838 ms |\n",
    "|650000 | 6 | 75000| 165.00 ms | 174.91 ms |\n",
    "|1000000 | 6 | 100000 | 323.86 ms | 300.21 ms |\n",
    "|6500000 | 5 | 100000| 2168.9 ms | 2665.3 ms |"
   ]
  },
  {
   "cell_type": "markdown",
   "id": "eaee0135",
   "metadata": {},
   "source": [
    "## Analysis of Data\n",
    "\n",
    "Based on collected benchmark data, the average run time for the retrivel of k via the Python library sort function is faster than the implemented split algorithm for small-medium list sizes. This may simply be due to the fact that our algorithm is implemented in Python, where as the Python library sort function is implemented in C under the hood. For large list sizes, it can be seen that over time the run time of library sort out grows the run time of the implemented algorithm, until the library sort run time is longer than that of the implemented algorithm. This is due to the implemented algorithm having a time complexity of O(n) while the Python library sort (which is Tim Sort) has a time complexity of O(nlogn).\n",
    "\n",
    "In conclusion, for small-medium list sizes it is faster to use the Python library sort function, and for larger list sizes it is faster to use the implemented split algorithm. However, it must be noted that for the implemented algorithm, since a random pivot value is selected from the middle of the list, it is possible for the algorithm to take more or less time based on whether a desirable pivot value has been selected among recursions. It also must be noted that if both methods of k retrieval were implemented in the same language (whether that be in Python or C), it is likely that the implemented algorithm would be faster as it has a superior time complexity compared to Tim Sort."
   ]
  },
  {
   "cell_type": "markdown",
   "id": "6b3dfd47",
   "metadata": {},
   "source": [
    "## Appendex"
   ]
  },
  {
   "cell_type": "code",
   "execution_count": null,
   "id": "20c3db4e",
   "metadata": {},
   "outputs": [],
   "source": [
    "proof_working_cases = (([3,2,5,1,4], 3, 3),\n",
    "                       ([4,1,3,5,2], 1, 1),\n",
    "                       ([1,3,2,4,5], 5, 5)\n",
    "                       )\n",
    "\n",
    "def prove_working():\n",
    "    for case in proof_working_cases:\n",
    "        print(case)\n",
    "        result = split(case[0], case[1])\n",
    "        print(\"expected: \" + str(case[2]) + \", result: \" + str(result))"
   ]
  },
  {
   "cell_type": "code",
   "execution_count": null,
   "id": "610a47f6",
   "metadata": {},
   "outputs": [],
   "source": [
    "def split(in_list, k):\n",
    "    if len(in_list) == 0:\n",
    "        return None\n",
    "    \n",
    "    # Choose an arbitrary pivot\n",
    "    # Use the middle value for better performance if partially sorted\n",
    "    pivot = in_list[int(len(in_list)/2)]\n",
    "    \n",
    "    # Create lists for elements larger and smaller than the pivot\n",
    "    lt_list = [] # loop invariant: it will always contain values less than the pivot\n",
    "    gt_list = [] # loop invariant: it will always contain values greater than the pivot\n",
    "    eq_list = [] # loop invariant: it will always contain values equal to the pivot\n",
    "    \n",
    "    # Construct partitions\n",
    "    for elem in in_list: # O(n)\n",
    "        if elem < pivot:\n",
    "            lt_list.append(elem)\n",
    "        elif elem > pivot:\n",
    "            gt_list.append(elem)\n",
    "        else:\n",
    "            eq_list.append(elem)\n",
    "    \n",
    "    # K invariant: It's the kth smallest variable to be searchd for out of the provided list\n",
    "    \n",
    "    # Recurse\n",
    "    if len(lt_list) <= k:\n",
    "        k -= len(lt_list)\n",
    "    else:\n",
    "        return split(lt_list, k)  # T(n/2)\n",
    "    \n",
    "    if len(eq_list) <= k:\n",
    "        k -= len(eq_list)\n",
    "    else:\n",
    "        return pivot\n",
    "    \n",
    "    return split(gt_list, k)  # T(n/2)"
   ]
  },
  {
   "cell_type": "code",
   "execution_count": null,
   "id": "318ccf9b",
   "metadata": {},
   "outputs": [],
   "source": [
    "def standard_sort(in_list,k):\n",
    "    sorted_list = sorted(in_list)\n",
    "    return sorted_list[k]"
   ]
  },
  {
   "cell_type": "code",
   "execution_count": null,
   "id": "bd434b68",
   "metadata": {},
   "outputs": [],
   "source": [
    "import random\n",
    "\n",
    "test_list = [3, 4, 2, 9, 6, 7, 5, 0, 1, 5, 9, 7, 2, 3]\n",
    "\n",
    "element_index = random.randint(0, len(test_list)-1)\n",
    "print(f\"{element_index}th element is {split(test_list, element_index)}\")\n",
    "\n",
    "print(sorted(test_list)[element_index])"
   ]
  },
  {
   "cell_type": "code",
   "execution_count": null,
   "id": "f61084ce",
   "metadata": {},
   "outputs": [],
   "source": [
    "import random\n",
    "\n",
    "def gen_list(n=100, elem_range=(1, 100)):\n",
    "    rlist = []\n",
    "    \n",
    "    for i in range(0, n):\n",
    "        rlist.append(random.randint(*elem_range))\n",
    "    \n",
    "    return rlist"
   ]
  },
  {
   "cell_type": "code",
   "execution_count": null,
   "id": "b158cae4",
   "metadata": {},
   "outputs": [],
   "source": [
    "import time\n",
    "\n",
    "def benchmark(func=split, elements=100, k=30): # , do_print=False\n",
    "    to_sort = gen_list(elements, (0, elements/2))\n",
    "    \n",
    "    start_time = time.perf_counter()\n",
    "    element_k = func(to_sort, k)\n",
    "    elapsed = time.perf_counter() - start_time\n",
    "    \n",
    "    return elapsed, element_k\n",
    "\n",
    "\n",
    "def benchmark_averaged(func=split, elements=10, attempts=10, k=30):\n",
    "    total_time = 0\n",
    "    k_elems = []\n",
    "    for _ in range(0, attempts):\n",
    "        next_time = benchmark(func, elements, k) # , do_print=False\n",
    "        total_time += next_time[0]\n",
    "        k_elems.append(next_time[1])\n",
    "    \n",
    "    average_time = total_time / attempts\n",
    "    \n",
    "    print(f\"Generated lists with {elements} elements to find {k}th smallest element in average of {average_time*1000} ms ({attempts} runs)\")\n",
    "    return average_time, k_elems\n",
    "\n"
   ]
  },
  {
   "cell_type": "code",
   "execution_count": null,
   "id": "f71b9c97",
   "metadata": {},
   "outputs": [],
   "source": [
    "test_cases = [(100, 100, 10), \n",
    "              (650, 100, 75), \n",
    "              (1000, 50, 100), \n",
    "              (6500, 20, 750), \n",
    "              (10000, 15, 1000), \n",
    "              (65000, 10, 7500), \n",
    "              (100000, 8, 10000), \n",
    "              (650000, 6, 75000),\n",
    "              (1000000, 6, 100000),\n",
    "              (6500000, 5, 100000)]"
   ]
  },
  {
   "cell_type": "code",
   "execution_count": null,
   "id": "61f90643",
   "metadata": {},
   "outputs": [],
   "source": [
    "for case in test_cases: \n",
    "    rstate = random.getstate() \n",
    "    random.setstate(rstate) \n",
    "    sp_time = benchmark_averaged(split, *case) \n",
    "    random.setstate(rstate) \n",
    "    st_time = benchmark_averaged(standard_sort, *case) # Double check \n",
    "    for i in range(0, len(sp_time)): \n",
    "        if sp_time[1][i] != st_time[1][i]: \n",
    "            print(f\"Mismatch: {sp_time[1][i]} != {st_time[1][i]}\")"
   ]
  }
 ],
 "metadata": {
  "kernelspec": {
   "display_name": "Python 3 (ipykernel)",
   "language": "python",
   "name": "python3"
  },
  "language_info": {
   "codemirror_mode": {
    "name": "ipython",
    "version": 3
   },
   "file_extension": ".py",
   "mimetype": "text/x-python",
   "name": "python",
   "nbconvert_exporter": "python",
   "pygments_lexer": "ipython3",
   "version": "3.9.13"
  }
 },
 "nbformat": 4,
 "nbformat_minor": 5
}
