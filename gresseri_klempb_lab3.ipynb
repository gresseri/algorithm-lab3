{
 "cells": [
  {
   "cell_type": "markdown",
   "id": "af8ffbea",
   "metadata": {},
   "source": [
    "Lab 3\n",
    "===\n",
    "\n",
    "Partial sorting/Find the k'th element of a list"
   ]
  },
  {
   "cell_type": "code",
   "execution_count": null,
   "id": "650a47f6",
   "metadata": {},
   "outputs": [],
   "source": []
  },
  {
   "cell_type": "markdown",
   "id": "aa56c2fa",
   "metadata": {},
   "source": [
    "## PsuedoCode"
   ]
  },
  {
   "cell_type": "markdown",
   "id": "eab457c6",
   "metadata": {},
   "source": [
    "def split(in_list, k):\n",
    "\n",
    "    if k >= in_list.length:\n",
    "        return null\n",
    "    pivot = inlist.pop(in_list.length/2)\n",
    "    greaterThanList = []\n",
    "    lessThanList = []\n",
    "    equalList = []\n",
    "    \n",
    "    for element in in_list:\n",
    "        if element < pivot:\n",
    "            lessThanList.append(element)\n",
    "        else if element > pivot: \n",
    "            greaterThanList.append(element)\n",
    "        else:\n",
    "            equalList.append(element)\n",
    "    \n",
    "    "
   ]
  },
  {
   "cell_type": "markdown",
   "id": "4e38f7fe",
   "metadata": {},
   "source": [
    "## Justification of Correctness"
   ]
  },
  {
   "cell_type": "code",
   "execution_count": null,
   "id": "826cb6fb",
   "metadata": {},
   "outputs": [],
   "source": []
  },
  {
   "cell_type": "code",
   "execution_count": null,
   "id": "a47fc918",
   "metadata": {},
   "outputs": [],
   "source": []
  },
  {
   "cell_type": "code",
   "execution_count": null,
   "id": "f0bb43f4",
   "metadata": {},
   "outputs": [],
   "source": []
  },
  {
   "cell_type": "markdown",
   "id": "5a7d10cd",
   "metadata": {},
   "source": [
    "## Derived Recurrence"
   ]
  },
  {
   "cell_type": "markdown",
   "id": "bd8d84df",
   "metadata": {},
   "source": [
    "Assuming that the random pivot selected divided the element in half each time (lumping the eq_list with lt_list), the recursion recurrence relation is T(n/2). Then, in the  algortihm there is a comparison to check if the pivot is equal to k. This check is done every iteration of the recursion, so it can be represented as O(n). As such, the full recurrence relation is:\n",
    "\n",
    "                                                      T(n) = T(n/2)"
   ]
  },
  {
   "cell_type": "markdown",
   "id": "4d21c364",
   "metadata": {},
   "source": [
    "## Solved Recurrence"
   ]
  },
  {
   "cell_type": "markdown",
   "id": "a5cf22ec",
   "metadata": {},
   "source": [
    "With a derived reccurrence, we can find the overall algorithmic complexity of the implemented algorithm. Using the substitution method, if the time complexity is guessed to be O(n), the induction hypothesis is:\n",
    "\n",
    "                                                T(n) = T(n/2) + O(n) <= c(n/2) + n\n",
    "                                                \n",
    "                                                \n",
    "                                                \n",
    "If we solve the recurrence, \n",
    "\n",
    "                                                if c > 1,\n",
    "                                                c(n/2) + n = n + n = 2n\n",
    "                                                = O(n)\n",
    "\n",
    "As shown by the solved equation, the guess was right, with the algorithmic complexity of the implemented algorithm being O(n)."
   ]
  },
  {
   "cell_type": "markdown",
   "id": "a6c5e7c7",
   "metadata": {},
   "source": [
    "At the start of the algorithm, there is a selected partition value from the provided list. There are 3 loop invariants in the implemented algorithm: lt_list which will contain all values less than the selected partition value from the provided list, gt_list which will contain all values greater than the partition value from the provided list, and eq_list which will contain all values less than the selected partition value from the provided list. \n",
    "\n",
    "OR, BELOW IS PROBABLY BETTER:\n",
    "At the start of the algortihm, there is a selected partition value from the provided list. There are multiple loop invariants in this algorithm, but the most important one is the value k. K represents the desired value to be found by the user, with k being the kth smallest value to be found from "
   ]
  },
  {
   "cell_type": "code",
   "execution_count": null,
   "id": "610a47f6",
   "metadata": {},
   "outputs": [],
   "source": [
    "def split(in_list, k):\n",
    "    if len(in_list) == 0:\n",
    "        return None\n",
    "    \n",
    "    # Choose an arbitrary pivot\n",
    "    # Use the middle value for better performance if partially sorted\n",
    "    pivot = in_list[int(len(in_list)/2)] # T(n/2)\n",
    "    \n",
    "    # Create lists for elements larger and smaller than the pivot\n",
    "    lt_list = [] # loop invariant: it will always contain values less than the pivot\n",
    "    gt_list = [] # loop invariant: it will always contain values greater than the pivot\n",
    "    eq_list = [] # loop invariant: it will always contain values equal to the pivot\n",
    "    \n",
    "    # Construct partitions\n",
    "    for elem in in_list: #\n",
    "        if elem < pivot:\n",
    "            lt_list.append(elem)\n",
    "        elif elem > pivot:\n",
    "            gt_list.append(elem)\n",
    "        else:\n",
    "            eq_list.append(elem)\n",
    "    \n",
    "    # K invariant: It's the kth smallest variable to be searchd for out of the provided list\n",
    "    \n",
    "    # Recurse\n",
    "    if len(lt_list) <= k:\n",
    "        k -= len(lt_list)\n",
    "    else:\n",
    "        return split(lt_list, k)\n",
    "    \n",
    "    if len(eq_list) <= k:\n",
    "        k -= len(eq_list)\n",
    "    else:\n",
    "        return pivot\n",
    "    \n",
    "    return split(gt_list, k)"
   ]
  },
  {
   "cell_type": "code",
   "execution_count": null,
   "id": "318ccf9b",
   "metadata": {},
   "outputs": [],
   "source": [
    "def standard_sort(in_list,k):\n",
    "    in_list.sort()\n",
    "    print(str(k)+\"th element is: \" + str(in_list[k-1]))"
   ]
  },
  {
   "cell_type": "code",
   "execution_count": null,
   "id": "bd434b68",
   "metadata": {},
   "outputs": [],
   "source": [
    "import random\n",
    "\n",
    "test_list = [3, 4, 2, 9, 6, 7, 5, 0, 1, 5, 9, 7, 2, 3]\n",
    "\n",
    "element_index = random.randint(0, len(test_list)-1)\n",
    "print(f\"{element_index}th element is {split(test_list, element_index)}\")\n",
    "\n",
    "print(sorted(test_list)[element_index])"
   ]
  },
  {
   "cell_type": "code",
   "execution_count": null,
   "id": "f61084ce",
   "metadata": {},
   "outputs": [],
   "source": [
    "import random\n",
    "\n",
    "def gen_list(n=100, elem_range=(1, 100)):\n",
    "    rlist = []\n",
    "    \n",
    "    for i in range(0, n):\n",
    "        rlist.append(random.randint(*elem_range))\n",
    "    \n",
    "    return rlist"
   ]
  },
  {
   "cell_type": "code",
   "execution_count": null,
   "id": "b158cae4",
   "metadata": {},
   "outputs": [],
   "source": [
    "import time\n",
    "\n",
    "def benchmark(elements=100, k=30): # , do_print=False\n",
    "    to_sort = gen_list(elements, (0, elements/2))\n",
    "    \n",
    "    start_time = time.perf_counter()\n",
    "    element_k = split(to_sort, k)\n",
    "    elapsed = time.perf_counter() - start_time\n",
    "    \n",
    "    return elapsed\n",
    "\n",
    "def benchmark_lib_sort(elements=100, k=30): # , do_print=False\n",
    "    to_sort = gen_list(elements, (0, elements/2))\n",
    "    start_time = time.perf_counter()\n",
    "    to_sort.sort()\n",
    "    element_k = to_sort[k-1]\n",
    "    end_time = time.perf_counter()\n",
    "    elapsed = start_time - end_time\n",
    "    return elapsed\n",
    "\n",
    "def benchmark_averaged(elements=10, attempts=10, k=30):\n",
    "    total_implement_time = 0\n",
    "    total_lib_time = 0\n",
    "    for _ in range(0, attempts):\n",
    "        next_time = benchmark(elements, k) # , do_print=False\n",
    "        total_implement_time += next_time\n",
    "        next_time = benchmark_lib_sort(elements, k) # , do_print=False\n",
    "        total_lib_time += next_time\n",
    "    \n",
    "    average_implement_time = total_implement_time / attempts\n",
    "    average_lib_time = total_lib_time / attempts\n",
    "    \n",
    "    print(f\"Generated lists with {elements} elements to find {k}th smallest element in average of {average_time*1000} ms ({attempts} runs)\")\n",
    "    print(f\"\\timplemented alg average time: {average_implement_time}\")\n",
    "    print(f\"\\tlibrary sorted average time: {average_lib_time}\")\n",
    "    return average_implement_time, average_lib_time\n",
    "\n"
   ]
  },
  {
   "cell_type": "code",
   "execution_count": null,
   "id": "61f90643",
   "metadata": {},
   "outputs": [],
   "source": [
    "benchmark_averaged(100, 30, 10)"
   ]
  }
 ],
 "metadata": {
  "kernelspec": {
   "display_name": "Python 3 (ipykernel)",
   "language": "python",
   "name": "python3"
  },
  "language_info": {
   "codemirror_mode": {
    "name": "ipython",
    "version": 3
   },
   "file_extension": ".py",
   "mimetype": "text/x-python",
   "name": "python",
   "nbconvert_exporter": "python",
   "pygments_lexer": "ipython3",
   "version": "3.9.13"
  }
 },
 "nbformat": 4,
 "nbformat_minor": 5
}
