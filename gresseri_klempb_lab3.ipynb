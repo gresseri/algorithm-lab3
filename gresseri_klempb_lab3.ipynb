{
 "cells": [
  {
   "cell_type": "markdown",
   "id": "af8ffbea",
   "metadata": {},
   "source": [
    "Lab 3\n",
    "===\n",
    "\n",
    "Partial sorting/Find the k'th element of a list"
   ]
  },
  {
   "cell_type": "code",
   "execution_count": null,
   "id": "650a47f6",
   "metadata": {},
   "outputs": [],
   "source": []
  },
  {
   "cell_type": "code",
   "execution_count": null,
   "id": "87833c22",
   "metadata": {},
   "outputs": [],
   "source": []
  },
  {
   "cell_type": "code",
   "execution_count": null,
   "id": "5ad75bd0",
   "metadata": {},
   "outputs": [],
   "source": []
  },
  {
   "cell_type": "code",
   "execution_count": null,
   "id": "826cb6fb",
   "metadata": {},
   "outputs": [],
   "source": []
  },
  {
   "cell_type": "code",
   "execution_count": null,
   "id": "a47fc918",
   "metadata": {},
   "outputs": [],
   "source": []
  },
  {
   "cell_type": "code",
   "execution_count": null,
   "id": "f0bb43f4",
   "metadata": {},
   "outputs": [],
   "source": []
  },
  {
   "cell_type": "code",
   "execution_count": null,
   "id": "b53038fe",
   "metadata": {},
   "outputs": [],
   "source": []
  },
  {
   "cell_type": "code",
   "execution_count": null,
   "id": "65cc097e",
   "metadata": {},
   "outputs": [],
   "source": []
  },
  {
   "cell_type": "code",
   "execution_count": null,
   "id": "66bf73ca",
   "metadata": {},
   "outputs": [],
   "source": []
  },
  {
   "cell_type": "code",
   "execution_count": null,
   "id": "a51afa3b",
   "metadata": {},
   "outputs": [],
   "source": []
  },
  {
   "cell_type": "markdown",
   "id": "aa56c2fa",
   "metadata": {},
   "source": [
    "## PsuedoCode"
   ]
  },
  {
   "cell_type": "markdown",
   "id": "6b7866a1",
   "metadata": {},
   "source": [
    "def split(in_list, k):\n",
    "    if k >= in_list.length:\n",
    "        return null\n",
    "    pivot = inlist.pop(in_list.length/2)\n",
    "    greaterThanList = []\n",
    "    lessThanList = []\n",
    "    equalList = []\n",
    "    \n",
    "    for element in in_list:\n",
    "        if element < pivot:\n",
    "            lessThanList.append(element)\n",
    "        else if element > pivot: \n",
    "            greaterThanList.append(element)\n",
    "        else:\n",
    "            equalList.append(element)\n",
    "    \n",
    "    "
   ]
  },
  {
   "cell_type": "code",
   "execution_count": null,
   "id": "610a47f6",
   "metadata": {},
   "outputs": [],
   "source": [
    "def split(in_list, k):\n",
    "    if len(in_list) == 0:\n",
    "        return None\n",
    "    \n",
    "    # Choose an arbitrary pivot\n",
    "    # Use the middle value for better performance if partially sorted\n",
    "    pivot = in_list[int(len(in_list)/2)]\n",
    "    \n",
    "    # Create lists for elements larger and smaller than the pivot\n",
    "    lt_list = []\n",
    "    gt_list = []\n",
    "    eq_list = []\n",
    "    \n",
    "    # Construct partitions\n",
    "    for elem in in_list:\n",
    "        if elem < pivot:\n",
    "            lt_list.append(elem)\n",
    "        elif elem > pivot:\n",
    "            gt_list.append(elem)\n",
    "        else:\n",
    "            eq_list.append(elem)\n",
    "    \n",
    "    # Recurse\n",
    "    if len(lt_list) <= k:\n",
    "        k -= len(lt_list)\n",
    "    else:\n",
    "        return split(lt_list, k)\n",
    "    \n",
    "    if len(eq_list) <= k:\n",
    "        k -= len(eq_list)\n",
    "    else:\n",
    "        return pivot\n",
    "    \n",
    "    return split(gt_list, k)"
   ]
  },
  {
   "cell_type": "code",
   "execution_count": null,
   "id": "318ccf9b",
   "metadata": {},
   "outputs": [],
   "source": [
    "def standard_sort(in_list,k):\n",
    "    in_list.sort()\n",
    "    print(str(k)+\"th element is: \" + str(in_list[k-1]))"
   ]
  },
  {
   "cell_type": "code",
   "execution_count": null,
   "id": "bd434b68",
   "metadata": {},
   "outputs": [],
   "source": [
    "import random\n",
    "\n",
    "test_list = [3, 4, 2, 9, 6, 7, 5, 0, 1, 5, 9, 7, 2, 3]\n",
    "\n",
    "element_index = random.randint(0, len(test_list)-1)\n",
    "print(f\"{element_index}th element is {split(test_list, element_index)}\")\n",
    "\n",
    "print(sorted(test_list)[element_index])"
   ]
  },
  {
   "cell_type": "code",
   "execution_count": null,
   "id": "f61084ce",
   "metadata": {},
   "outputs": [],
   "source": [
    "import random\n",
    "\n",
    "def gen_list(n=100, elem_range=(1, 100)):\n",
    "    rlist = []\n",
    "    \n",
    "    for i in range(0, n):\n",
    "        rlist.append(random.randint(*elem_range))\n",
    "    \n",
    "    return rlist"
   ]
  },
  {
   "cell_type": "code",
   "execution_count": null,
   "id": "b158cae4",
   "metadata": {},
   "outputs": [],
   "source": [
    "import time\n",
    "\n",
    "def benchmark(elements=100, k=30, do_print=False):\n",
    "    to_sort = gen_list(elements, (0, elements/2))\n",
    "    \n",
    "    start_time = time.perf_counter()\n",
    "    element_k = split(to_sort, k)\n",
    "    elapsed = time.perf_counter() - start_time\n",
    "    \n",
    "    return elapsed\n",
    "\n",
    "def benchmark_averaged(elements=10, attempts=10, k=30):\n",
    "    total_time = 0\n",
    "    for _ in range(0, attempts):\n",
    "        next_time = benchmark(elements, k, do_print=False)\n",
    "        \n",
    "        total_time += next_time\n",
    "    \n",
    "    average_time = total_time / attempts\n",
    "    \n",
    "    print(f\"Generated hull from {elements} points in average of {average_time*1000} ms ({attempts} runs)\")\n",
    "    \n",
    "    return average_time"
   ]
  },
  {
   "cell_type": "code",
   "execution_count": null,
   "id": "61f90643",
   "metadata": {},
   "outputs": [],
   "source": [
    "benchmark_averaged(100, 30, 10)"
   ]
  }
 ],
 "metadata": {
  "kernelspec": {
   "display_name": "Python 3 (ipykernel)",
   "language": "python",
   "name": "python3"
  },
  "language_info": {
   "codemirror_mode": {
    "name": "ipython",
    "version": 3
   },
   "file_extension": ".py",
   "mimetype": "text/x-python",
   "name": "python",
   "nbconvert_exporter": "python",
   "pygments_lexer": "ipython3",
   "version": "3.9.13"
  }
 },
 "nbformat": 4,
 "nbformat_minor": 5
}
